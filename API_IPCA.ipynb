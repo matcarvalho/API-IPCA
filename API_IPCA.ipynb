{
  "nbformat": 4,
  "nbformat_minor": 0,
  "metadata": {
    "kernelspec": {
      "display_name": "Python 3",
      "language": "python",
      "name": "python3"
    },
    "language_info": {
      "codemirror_mode": {
        "name": "ipython",
        "version": 3
      },
      "file_extension": ".py",
      "mimetype": "text/x-python",
      "name": "python",
      "nbconvert_exporter": "python",
      "pygments_lexer": "ipython3",
      "version": "3.8.5"
    },
    "colab": {
      "name": "API_IPCA.ipynb",
      "provenance": [],
      "include_colab_link": true
    }
  },
  "cells": [
    {
      "cell_type": "markdown",
      "metadata": {
        "id": "view-in-github",
        "colab_type": "text"
      },
      "source": [
        "<a href=\"https://colab.research.google.com/github/matcarvalho/API-IPCA/blob/main/API_IPCA.ipynb\" target=\"_parent\"><img src=\"https://colab.research.google.com/assets/colab-badge.svg\" alt=\"Open In Colab\"/></a>"
      ]
    },
    {
      "cell_type": "code",
      "metadata": {
        "id": "gtGK0bLEJtTg"
      },
      "source": [
        "import pandas as pd\n",
        "import matplotlib.pyplot as plt"
      ],
      "execution_count": null,
      "outputs": []
    },
    {
      "cell_type": "code",
      "metadata": {
        "id": "57UeKulEJtTk",
        "outputId": "3cd69edb-b2a6-465a-880f-dc8841fbfb37"
      },
      "source": [
        "print(\"         ############################    \")\n",
        "\n",
        "print(\"Bem-vindo ao sistema de histórico do IPCA\")\n",
        "\n",
        "print(\"        ############################      \")\n",
        "\n",
        "dt_inicial = input(\"Informe a data Incial que deseja consultar. Ex.: 01/01/2016: \")\n",
        "dt_final = input(\"Informe a data Incial que deseja consultar. Ex.: 01/01/2016: \")\n",
        "\n",
        "API = f\"https://api.bcb.gov.br/dados/serie/bcdata.sgs.16121/dados?formato=json&dataInicial={dt_inicial}&dataFinal={dt_final}\"\n",
        "dados = pd.read_json(API)\n",
        "\n",
        "dados['mês'] = dados['data'].apply(lambda x: str(x)[3:5])\n",
        "dados['ano'] = dados['data'].apply(lambda x: str(x)[6:10])\n",
        "dados['mês/ano'] = dados['data'].apply(lambda x: str(x)[3:10])\n",
        "\n",
        "grafico = input(\"\"\"Deseja ver a informação por mês/ano ou por ano?\n",
        "          Para ano digite: ano\n",
        "          Para mês/ano digite: mes\n",
        "      \"\"\")\n",
        "\n",
        "if grafico == 'ano':\n",
        "    plt.plot(dados['ano'], dados['valor']) #Criando o gráfico\n",
        "    plt.title('IPCA POR ANO') #adicionando o título\n",
        "    plt.xlabel('ANO')\n",
        "    plt.ylabel('IPCA')\n",
        "    plt.show()\n",
        "else:\n",
        "    plt.plot(dados['mês/ano'], dados['valor']) #Criando o gráfico\n",
        "    plt.title('IPCA POR MÊS/ANO') #adicionando o título\n",
        "    plt.xlabel('MÊS/ANO')\n",
        "    plt.ylabel('IPCA')\n",
        "    plt.show()    \n",
        "\n"
      ],
      "execution_count": null,
      "outputs": [
        {
          "name": "stdout",
          "output_type": "stream",
          "text": [
            "         ############################    \n",
            "Bem-vindo ao sistema de histórico do IPCA\n",
            "        ############################      \n",
            "Informe a data Incial que deseja consultar. Ex.: 01/01/2016: 01/01/2016\n",
            "Informe a data Incial que deseja consultar. Ex.: 01/01/2016: 01/10/2020\n",
            "Deseja ver a informação por mês/ano ou por ano?\n",
            "          Para ano digite: ano\n",
            "          Para mês/ano digite: mes\n",
            "      ano\n"
          ]
        },
        {
          "data": {
            "image/png": "[encoded data removed]",
            "text/plain": [
              "<Figure size 432x288 with 1 Axes>"
            ]
          },
          "metadata": {
            "needs_background": "light"
          },
          "output_type": "display_data"
        }
      ]
    },
    {
      "cell_type": "code",
      "metadata": {
        "id": "dylQ_sbBJtTn"
      },
      "source": [
        ""
      ],
      "execution_count": null,
      "outputs": []
    }
  ]
}